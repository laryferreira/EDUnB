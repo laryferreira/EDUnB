{
  "nbformat": 4,
  "nbformat_minor": 0,
  "metadata": {
    "colab": {
      "provenance": [],
      "authorship_tag": "ABX9TyOefgyg50fDZCbcIck1npW1",
      "include_colab_link": true
    },
    "kernelspec": {
      "name": "python3",
      "display_name": "Python 3"
    },
    "language_info": {
      "name": "python"
    }
  },
  "cells": [
    {
      "cell_type": "markdown",
      "metadata": {
        "id": "view-in-github",
        "colab_type": "text"
      },
      "source": [
        "<a href=\"https://colab.research.google.com/github/laryferreira/EDUnB/blob/studies/EstruturaDados2023ipynb.ipynb\" target=\"_parent\"><img src=\"https://colab.research.google.com/assets/colab-badge.svg\" alt=\"Open In Colab\"/></a>"
      ]
    },
    {
      "cell_type": "markdown",
      "source": [
        "# Estrutura de Dados - Anotações - *2023.1*"
      ],
      "metadata": {
        "id": "r6_pLRDTQQRf"
      }
    },
    {
      "cell_type": "markdown",
      "source": [
        "## Análise de algoritmos\n",
        "\n",
        "---\n",
        "\n"
      ],
      "metadata": {
        "id": "W4MenEWTQYdz"
      }
    },
    {
      "cell_type": "markdown",
      "source": [
        "**Definição:** \n",
        "\n",
        "A análise de algoritmos se preocupa com a comparação de algoritmos baseada na quantidade de recursos computacionais que cada algoritmo usa. Queremos ser capazes de considerar dois algoritmos e dizer que um é melhor que o outro porque é mais eficiente no uso desses recursos ou talvez porque ele simplesmente os usa menos."
      ],
      "metadata": {
        "id": "aHKNwOXKQdPW"
      }
    },
    {
      "cell_type": "markdown",
      "source": [
        "**Quantidade de espaço ou memória:**\n",
        "\n",
        ">  A quantidade de espaço necessária para a resolução de um problema é tipicamente ditada pela instância do problema.\n",
        "\n",
        "\n",
        "\n"
      ],
      "metadata": {
        "id": "S6Z9dIGESgFj"
      }
    },
    {
      "cell_type": "code",
      "source": [
        "import time\n",
        "\n",
        "def somaDeN2(n):\n",
        "   inicio = time.time()\n",
        "\n",
        "   aSoma = 0\n",
        "   for i in range(1,n+1):\n",
        "      aSoma = aSoma + i\n",
        "\n",
        "   fim = time.time()\n",
        "\n",
        "   return aSoma,fim-inicio"
      ],
      "metadata": {
        "id": "gAgSHKP4Uw0m"
      },
      "execution_count": 1,
      "outputs": []
    },
    {
      "cell_type": "markdown",
      "source": [
        "Mas o que esta aferição realmente nos diz? Intuitivamente, podemos ver que as soluções iterativas parecem fazer mais trabalho, uma vez que alguns passos do programa são repetidos. \n",
        "\n",
        "Essa é provavelmente a razão pela qual demoram mais. Além disso, o tempo necessário para a solução iterativa parece aumentar conforme aumentamos o valor de n. Entretanto, há um problema. \n",
        "\n",
        "Se executarmos a mesma função em computadores diferentes ou usarmos uma linguagem de programação diferente, provavelmente obteríamos resultados diferentes. A função somaDeN3 poderia demorar mais se o computador fosse mais antigo.\n",
        "\n",
        "\n"
      ],
      "metadata": {
        "id": "ypyWSkheUd9W"
      }
    },
    {
      "cell_type": "markdown",
      "source": [
        "**Ela não nos fornece uma medida necessariamente útil, pois ela depende de uma máquina, programa, hora do dia, compilador e linguagem de programação particulares.**\n",
        "\n",
        "\n",
        "\n",
        "\n",
        "\n"
      ],
      "metadata": {
        "id": "eXeBY1P1Va1u"
      }
    },
    {
      "cell_type": "markdown",
      "source": [],
      "metadata": {
        "id": "CMUEOMRwVk4L"
      }
    }
  ]
}
